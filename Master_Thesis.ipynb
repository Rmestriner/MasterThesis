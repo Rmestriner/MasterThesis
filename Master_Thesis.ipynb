{
  "nbformat": 4,
  "nbformat_minor": 0,
  "metadata": {
    "colab": {
      "name": "Master_Thesis.ipynb",
      "provenance": [],
      "collapsed_sections": [],
      "toc_visible": true,
      "include_colab_link": true
    },
    "kernelspec": {
      "name": "python3",
      "display_name": "Python 3"
    }
  },
  "cells": [
    {
      "cell_type": "markdown",
      "metadata": {
        "id": "view-in-github",
        "colab_type": "text"
      },
      "source": [
        "<a href=\"https://colab.research.google.com/github/Rmestriner/MasterThesis/blob/main/Master_Thesis.ipynb\" target=\"_parent\"><img src=\"https://colab.research.google.com/assets/colab-badge.svg\" alt=\"Open In Colab\"/></a>"
      ]
    },
    {
      "cell_type": "markdown",
      "metadata": {
        "id": "aQuWDmfm9YOi"
      },
      "source": [
        "# **Master Thesis**"
      ]
    },
    {
      "cell_type": "markdown",
      "metadata": {
        "id": "C-nO0mfunNcc"
      },
      "source": [
        "\n",
        "\n",
        "```\n",
        "# Dit is opgemaakt als code, maar niet uitvoerbaar\n",
        "```\n",
        "\n",
        "# Introduction\n",
        "general tekst"
      ]
    },
    {
      "cell_type": "code",
      "metadata": {
        "id": "jJUArTa4q4Wy"
      },
      "source": [
        "some code"
      ],
      "execution_count": null,
      "outputs": []
    },
    {
      "cell_type": "markdown",
      "metadata": {
        "id": "3d_y6tU4q79B"
      },
      "source": [
        "some text again"
      ]
    },
    {
      "cell_type": "markdown",
      "metadata": {
        "id": "gBdfm-PmrG9J"
      },
      "source": [
        "###1. some extra subheaders"
      ]
    },
    {
      "cell_type": "markdown",
      "metadata": {
        "id": "nb3XpHK0rPVR"
      },
      "source": [
        "and some text again"
      ]
    },
    {
      "cell_type": "markdown",
      "metadata": {
        "id": "7o_okh_YqQGi"
      },
      "source": [
        "# Instructions on RClone setup\n"
      ]
    },
    {
      "cell_type": "markdown",
      "metadata": {
        "id": "FexiyATtNwTG"
      },
      "source": [
        "###1. Download & Install Latest Setup\n",
        "\n",
        "\n",
        "https://rclone.org/downloads/"
      ]
    },
    {
      "cell_type": "code",
      "metadata": {
        "id": "m6hF0emftx4h",
        "colab": {
          "base_uri": "https://localhost:8080/"
        },
        "outputId": "94d0eb83-62e2-4676-9031-fbade95633fc"
      },
      "source": [
        "!wget https://downloads.rclone.org/v1.54.1/rclone-v1.54.1-linux-amd64.deb\n",
        "!apt install ./rclone-v1.54.1-linux-amd64.deb"
      ],
      "execution_count": null,
      "outputs": [
        {
          "output_type": "stream",
          "text": [
            "--2021-03-31 08:38:35--  https://downloads.rclone.org/v1.54.1/rclone-v1.54.1-linux-amd64.deb\n",
            "Resolving downloads.rclone.org (downloads.rclone.org)... 5.153.250.7, 2a02:24e0:8:61f9::1\n",
            "Connecting to downloads.rclone.org (downloads.rclone.org)|5.153.250.7|:443... connected.\n",
            "HTTP request sent, awaiting response... 200 OK\n",
            "Length: 14314950 (14M) [application/x-debian-package]\n",
            "Saving to: ‘rclone-v1.54.1-linux-amd64.deb.1’\n",
            "\n",
            "rclone-v1.54.1-linu 100%[===================>]  13.65M  70.4MB/s    in 0.2s    \n",
            "\n",
            "2021-03-31 08:38:35 (70.4 MB/s) - ‘rclone-v1.54.1-linux-amd64.deb.1’ saved [14314950/14314950]\n",
            "\n",
            "Reading package lists... Done\n",
            "Building dependency tree       \n",
            "Reading state information... Done\n",
            "Note, selecting 'rclone' instead of './rclone-v1.54.1-linux-amd64.deb'\n",
            "rclone is already the newest version (1.54.1).\n",
            "0 upgraded, 0 newly installed, 0 to remove and 30 not upgraded.\n"
          ],
          "name": "stdout"
        }
      ]
    },
    {
      "cell_type": "markdown",
      "metadata": {
        "id": "u6b8Q4EjIowT"
      },
      "source": [
        "### 2. Authenticate One Drive"
      ]
    },
    {
      "cell_type": "code",
      "metadata": {
        "id": "dT1VHtxSIu8g",
        "colab": {
          "base_uri": "https://localhost:8080/"
        },
        "outputId": "3ef806cf-e0e9-4cc3-bacd-681567151a47"
      },
      "source": [
        "!rclone config"
      ],
      "execution_count": null,
      "outputs": [
        {
          "output_type": "stream",
          "text": [
            "2021/03/31 08:38:41 NOTICE: Config file \"/root/.config/rclone/rclone.conf\" not found - using defaults\n",
            "No remotes found - make a new one\n",
            "n) New remote\n",
            "s) Set configuration password\n",
            "q) Quit config\n",
            "n/s/q> n\n",
            "name> onedrive\n",
            "Type of storage to configure.\n",
            "Enter a string value. Press Enter for the default (\"\").\n",
            "Choose a number from below, or type in your own value\n",
            "\u001b[91m 1 / 1Fichier\n",
            "   \\ \"fichier\"\n",
            "\u001b[0m\u001b[92m 2 / Alias for an existing remote\n",
            "   \\ \"alias\"\n",
            "\u001b[0m\u001b[91m 3 / Amazon Drive\n",
            "   \\ \"amazon cloud drive\"\n",
            "\u001b[0m\u001b[92m 4 / Amazon S3 Compliant Storage Providers including AWS, Alibaba, Ceph, Digital Ocean, Dreamhost, IBM COS, Minio, and Tencent COS\n",
            "   \\ \"s3\"\n",
            "\u001b[0m\u001b[91m 5 / Backblaze B2\n",
            "   \\ \"b2\"\n",
            "\u001b[0m\u001b[92m 6 / Box\n",
            "   \\ \"box\"\n",
            "\u001b[0m\u001b[91m 7 / Cache a remote\n",
            "   \\ \"cache\"\n",
            "\u001b[0m\u001b[92m 8 / Citrix Sharefile\n",
            "   \\ \"sharefile\"\n",
            "\u001b[0m\u001b[91m 9 / Compress a remote\n",
            "   \\ \"compress\"\n",
            "\u001b[0m\u001b[92m10 / Dropbox\n",
            "   \\ \"dropbox\"\n",
            "\u001b[0m\u001b[91m11 / Encrypt/Decrypt a remote\n",
            "   \\ \"crypt\"\n",
            "\u001b[0m\u001b[92m12 / Enterprise File Fabric\n",
            "   \\ \"filefabric\"\n",
            "\u001b[0m\u001b[91m13 / FTP Connection\n",
            "   \\ \"ftp\"\n",
            "\u001b[0m\u001b[92m14 / Google Cloud Storage (this is not Google Drive)\n",
            "   \\ \"google cloud storage\"\n",
            "\u001b[0m\u001b[91m15 / Google Drive\n",
            "   \\ \"drive\"\n",
            "\u001b[0m\u001b[92m16 / Google Photos\n",
            "   \\ \"google photos\"\n",
            "\u001b[0m\u001b[91m17 / Hadoop distributed file system\n",
            "   \\ \"hdfs\"\n",
            "\u001b[0m\u001b[92m18 / Hubic\n",
            "   \\ \"hubic\"\n",
            "\u001b[0m\u001b[91m19 / In memory object storage system.\n",
            "   \\ \"memory\"\n",
            "\u001b[0m\u001b[92m20 / Jottacloud\n",
            "   \\ \"jottacloud\"\n",
            "\u001b[0m\u001b[91m21 / Koofr\n",
            "   \\ \"koofr\"\n",
            "\u001b[0m\u001b[92m22 / Local Disk\n",
            "   \\ \"local\"\n",
            "\u001b[0m\u001b[91m23 / Mail.ru Cloud\n",
            "   \\ \"mailru\"\n",
            "\u001b[0m\u001b[92m24 / Mega\n",
            "   \\ \"mega\"\n",
            "\u001b[0m\u001b[91m25 / Microsoft Azure Blob Storage\n",
            "   \\ \"azureblob\"\n",
            "\u001b[0m\u001b[92m26 / Microsoft OneDrive\n",
            "   \\ \"onedrive\"\n",
            "\u001b[0m\u001b[91m27 / OpenDrive\n",
            "   \\ \"opendrive\"\n",
            "\u001b[0m\u001b[92m28 / OpenStack Swift (Rackspace Cloud Files, Memset Memstore, OVH)\n",
            "   \\ \"swift\"\n",
            "\u001b[0m\u001b[91m29 / Pcloud\n",
            "   \\ \"pcloud\"\n",
            "\u001b[0m\u001b[92m30 / Put.io\n",
            "   \\ \"putio\"\n",
            "\u001b[0m\u001b[91m31 / QingCloud Object Storage\n",
            "   \\ \"qingstor\"\n",
            "\u001b[0m\u001b[92m32 / SSH/SFTP Connection\n",
            "   \\ \"sftp\"\n",
            "\u001b[0m\u001b[91m33 / Sugarsync\n",
            "   \\ \"sugarsync\"\n",
            "\u001b[0m\u001b[92m34 / Tardigrade Decentralized Cloud Storage\n",
            "   \\ \"tardigrade\"\n",
            "\u001b[0m\u001b[91m35 / Transparently chunk/split large files\n",
            "   \\ \"chunker\"\n",
            "\u001b[0m\u001b[92m36 / Union merges the contents of several upstream fs\n",
            "   \\ \"union\"\n",
            "\u001b[0m\u001b[91m37 / Webdav\n",
            "   \\ \"webdav\"\n",
            "\u001b[0m\u001b[92m38 / Yandex Disk\n",
            "   \\ \"yandex\"\n",
            "\u001b[0m\u001b[91m39 / Zoho\n",
            "   \\ \"zoho\"\n",
            "\u001b[0m\u001b[92m40 / http Connection\n",
            "   \\ \"http\"\n",
            "\u001b[0m\u001b[91m41 / premiumize.me\n",
            "   \\ \"premiumizeme\"\n",
            "\u001b[0m\u001b[92m42 / seafile\n",
            "   \\ \"seafile\"\n",
            "\u001b[0mStorage> 26\n",
            "** See help for onedrive backend at: https://rclone.org/onedrive/ **\n",
            "\n",
            "OAuth Client Id\n",
            "Leave blank normally.\n",
            "Enter a string value. Press Enter for the default (\"\").\n",
            "client_id> \n",
            "OAuth Client Secret\n",
            "Leave blank normally.\n",
            "Enter a string value. Press Enter for the default (\"\").\n",
            "client_secret> \n",
            "Choose national cloud region for OneDrive.\n",
            "Enter a string value. Press Enter for the default (\"global\").\n",
            "Choose a number from below, or type in your own value\n",
            "\u001b[91m 1 / Microsoft Cloud Global\n",
            "   \\ \"global\"\n",
            "\u001b[0m\u001b[92m 2 / Microsoft Cloud for US Government\n",
            "   \\ \"us\"\n",
            "\u001b[0m\u001b[91m 3 / Microsoft Cloud Germany\n",
            "   \\ \"de\"\n",
            "\u001b[0m\u001b[92m 4 / Azure and Office 365 operated by 21Vianet in China\n",
            "   \\ \"cn\"\n",
            "\u001b[0mregion> 1\n",
            "Edit advanced config? (y/n)\n",
            "y) Yes\n",
            "n) No (default)\n",
            "y/n> n\n",
            "Remote config\n",
            "Use auto config?\n",
            " * Say Y if not sure\n",
            " * Say N if you are working on a remote or headless machine\n",
            "y) Yes (default)\n",
            "n) No\n",
            "y/n> n\n",
            "For this to work, you will need rclone available on a machine that has\n",
            "a web browser available.\n",
            "\n",
            "For more help and alternate methods see: https://rclone.org/remote_setup/\n",
            "\n",
            "Execute the following on the machine with the web browser (same rclone\n",
            "version recommended):\n",
            "\n",
            "\trclone authorize \"onedrive\"\n",
            "\n",
            "Then paste the result below:\n",
            "result> {\"access_token\":\"EwCAA8l6BAAU6k7+XVQzkGyMv7VHB/h4cHbJYRAAAfa/qY1v5KRn1dr8NgCElk5Z0Txq/ie0YTF5E37szEwEQXF2Q8iCd9nXRNvhzXF9IvMqaAa0OhcFLVUDqnQoZJa9Y8hI0ILLkwq7MK5vG7IAjCFmBLSWD/zejOdMR1Mn4dsYPOjtquk1US+zHHs0eWlVQj0ICwVXvtE+Y8D1afcVUdHrvsC0q27Fz2hdSQNjRYYvUKC5HYpRVM0jlcqrvmbo0+YjvJ4smCtAyTRT6ExBd95cVspBZTv6AVb+A6xItopkRrZ6z8fXVLxNhk+qH938Z9ImnQQV1mxkO8nC1KXss8q7XqWOhrdJLbiac6HzTeFoDCB/YTqthqF6j2gbOxYDZgAACA02iRUznJ1nUALnazVGyT7tOEuw1GOUIkriG0xOmRfv7UsTMpU5D91Ps9afALGTPtDDuzgZ3zZnYHWMOChOn4ioadx9XDvtMH+MEiIqYG2ahY2GntcFU4ZtbAeXRC3opbRUztqmWV4kbB7gdYTs0ei713PhQAignu7EVjqvHkoLlOQg1vCUIz4xI9Kp+CLpR9rDVGGejM4xWPc9IVIpQaKr5q66HCBo4zDALDzyKBtznUgoY2neOvwgNBa/zPY/hY5Wc7kWhW5S0A8jhH1ViwXOVZjPLbnC8+81GniEIMiMx84r9FBQChmMTxBK1lhzGxgZJnTzcOr6xf8pKoQnCwGgvu5zAxmhta+1B8H/YLLbElX05sokNp/4g2z58GqlaukUqKlFXhnhkT43/q9sZ8bbGUCyvdHcbDKJDeBzJyRcOIR6w+PilcsITkF+T2xW/FyK/SNECYtNzvV6jHAnRSuFBv/cxbXfvngsfNVNixbRXTTh12vRnqp2rQQcNKNChLh5vROk/h3TMNwhqPYrTwU/wWKH731H/SAbweO6ko8pm0iUZKvZAgwtxzx/xGXPRxTO62jSrWGL8rF59s8xrr+SPH/CCUX3oIdzGTB4JS/yZQH99Reeqb82QzbRjGZqOh4Spc5Zaz030XYX9MyZIpqaP1iEgAwrlc8rzBGJuZrD6HD5yldkluC8veZ9dlUINBFfEnU36k0usrMgZGAQ8tzUim4ZJDE147psHcGtgD3KHpKvcYrSr1YnQjJ+m0htnmRK5LlPfmscloMLsWTluqsWIYHYxZPCRiWwhwI=\",\"token_type\":\"Bearer\",\"refresh_token\":\"M.R3_BAY.CeIouIkqXM21Z0sx8OdUz8MKiJ1pSK2IxkhBqcFyaQzjeeDhA7fJynvWEtO2d4XsRCo0VafDz0SPUpRcmoI80JQMjd4M40sWQhlxkLiWoTyQaQaa7i3fBQKKv8mYoIBgRO5Jh49VnzCIJqToKuTpEWQUsZT8DECjAp6MkH7q4oJIqQOEHAOMF2JKWZvbnkyRTT0sm7!Dr0eJKdvoeyt74eWXkOze4ltbmCPXi8b2nJUdOPJgJDP5Y4thieoue0bcEiY7XGUnEdV5s0JnfEMjXZ2dmwPVtNk!Qfjp510A1RrbEjQlv7tLEpuXX8s4P5O9CvHeb7HYV0JbuU*DolYQ3oTdnCO4cmhkvrw9l!QPc1O5cnAILCOl9gTS!dKXLoZhFa5qcx9OXII3NjiGr3BGYAJ4aLhMLn7bHt4KTeMcleks281RAGFMPY4mffs5R7Vf4cIdLz3EapnTIkdwHNfXb8o$\",\"expiry\":\"2021-03-31T11:33:29.863799+02:00\"}\n",
            "Choose a number from below, or type in an existing value\n",
            "\u001b[91m 1 / OneDrive Personal or Business\n",
            "   \\ \"onedrive\"\n",
            "\u001b[0m\u001b[92m 2 / Root Sharepoint site\n",
            "   \\ \"sharepoint\"\n",
            "\u001b[0m\u001b[91m 3 / Sharepoint site name or URL (e.g. mysite or https://contoso.sharepoint.com/sites/mysite)\n",
            "   \\ \"url\"\n",
            "\u001b[0m\u001b[92m 4 / Search for a Sharepoint site\n",
            "   \\ \"search\"\n",
            "\u001b[0m\u001b[91m 5 / Type in driveID (advanced)\n",
            "   \\ \"driveid\"\n",
            "\u001b[0m\u001b[92m 6 / Type in SiteID (advanced)\n",
            "   \\ \"siteid\"\n",
            "\u001b[0m\u001b[91m 7 / Sharepoint server-relative path (advanced, e.g. /teams/hr)\n",
            "   \\ \"path\"\n",
            "\u001b[0mYour choice> 1\n",
            "Found 1 drives, please select the one you want to use:\n",
            "0:  (personal) id=7986e135fb3f10c9\n",
            "Chose drive to use:> 0\n",
            "Found drive 'root' of type 'personal', URL: https://onedrive.live.com/?cid=7986e135fb3f10c9\n",
            "Is that okay?\n",
            "y) Yes (default)\n",
            "n) No\n",
            "y/n> y\n",
            "--------------------\n",
            "[onedrive]\n",
            "type = onedrive\n",
            "region = global\n",
            "token = {\"access_token\":\"EwCAA8l6BAAU6k7+XVQzkGyMv7VHB/h4cHbJYRAAAfa/qY1v5KRn1dr8NgCElk5Z0Txq/ie0YTF5E37szEwEQXF2Q8iCd9nXRNvhzXF9IvMqaAa0OhcFLVUDqnQoZJa9Y8hI0ILLkwq7MK5vG7IAjCFmBLSWD/zejOdMR1Mn4dsYPOjtquk1US+zHHs0eWlVQj0ICwVXvtE+Y8D1afcVUdHrvsC0q27Fz2hdSQNjRYYvUKC5HYpRVM0jlcqrvmbo0+YjvJ4smCtAyTRT6ExBd95cVspBZTv6AVb+A6xItopkRrZ6z8fXVLxNhk+qH938Z9ImnQQV1mxkO8nC1KXss8q7XqWOhrdJLbiac6HzTeFoDCB/YTqthqF6j2gbOxYDZgAACA02iRUznJ1nUALnazVGyT7tOEuw1GOUIkriG0xOmRfv7UsTMpU5D91Ps9afALGTPtDDuzgZ3zZnYHWMOChOn4ioadx9XDvtMH+MEiIqYG2ahY2GntcFU4ZtbAeXRC3opbRUztqmWV4kbB7gdYTs0ei713PhQAignu7EVjqvHkoLlOQg1vCUIz4xI9Kp+CLpR9rDVGGejM4xWPc9IVIpQaKr5q66HCBo4zDALDzyKBtznUgoY2neOvwgNBa/zPY/hY5Wc7kWhW5S0A8jhH1ViwXOVZjPLbnC8+81GniEIMiMx84r9FBQChmMTxBK1lhzGxgZJnTzcOr6xf8pKoQnCwGgvu5zAxmhta+1B8H/YLLbElX05sokNp/4g2z58GqlaukUqKlFXhnhkT43/q9sZ8bbGUCyvdHcbDKJDeBzJyRcOIR6w+PilcsITkF+T2xW/FyK/SNECYtNzvV6jHAnRSuFBv/cxbXfvngsfNVNixbRXTTh12vRnqp2rQQcNKNChLh5vROk/h3TMNwhqPYrTwU/wWKH731H/SAbweO6ko8pm0iUZKvZAgwtxzx/xGXPRxTO62jSrWGL8rF59s8xrr+SPH/CCUX3oIdzGTB4JS/yZQH99Reeqb82QzbRjGZqOh4Spc5Zaz030XYX9MyZIpqaP1iEgAwrlc8rzBGJuZrD6HD5yldkluC8veZ9dlUINBFfEnU36k0usrMgZGAQ8tzUim4ZJDE147psHcGtgD3KHpKvcYrSr1YnQjJ+m0htnmRK5LlPfmscloMLsWTluqsWIYHYxZPCRiWwhwI=\",\"token_type\":\"Bearer\",\"refresh_token\":\"M.R3_BAY.CeIouIkqXM21Z0sx8OdUz8MKiJ1pSK2IxkhBqcFyaQzjeeDhA7fJynvWEtO2d4XsRCo0VafDz0SPUpRcmoI80JQMjd4M40sWQhlxkLiWoTyQaQaa7i3fBQKKv8mYoIBgRO5Jh49VnzCIJqToKuTpEWQUsZT8DECjAp6MkH7q4oJIqQOEHAOMF2JKWZvbnkyRTT0sm7!Dr0eJKdvoeyt74eWXkOze4ltbmCPXi8b2nJUdOPJgJDP5Y4thieoue0bcEiY7XGUnEdV5s0JnfEMjXZ2dmwPVtNk!Qfjp510A1RrbEjQlv7tLEpuXX8s4P5O9CvHeb7HYV0JbuU*DolYQ3oTdnCO4cmhkvrw9l!QPc1O5cnAILCOl9gTS!dKXLoZhFa5qcx9OXII3NjiGr3BGYAJ4aLhMLn7bHt4KTeMcleks281RAGFMPY4mffs5R7Vf4cIdLz3EapnTIkdwHNfXb8o$\",\"expiry\":\"2021-03-31T11:33:29.863799+02:00\"}\n",
            "drive_id = 7986e135fb3f10c9\n",
            "drive_type = personal\n",
            "--------------------\n",
            "y) Yes this is OK (default)\n",
            "e) Edit this remote\n",
            "d) Delete this remote\n",
            "y/e/d> y\n",
            "Current remotes:\n",
            "\n",
            "Name                 Type\n",
            "====                 ====\n",
            "onedrive             onedrive\n",
            "\n",
            "e) Edit existing remote\n",
            "n) New remote\n",
            "d) Delete remote\n",
            "r) Rename remote\n",
            "c) Copy remote\n",
            "s) Set configuration password\n",
            "q) Quit config\n",
            "e/n/d/r/c/s/q> q\n"
          ],
          "name": "stdout"
        }
      ]
    },
    {
      "cell_type": "markdown",
      "metadata": {
        "id": "gi5Cx03cLWYE"
      },
      "source": [
        "### 3. Mount One Drive\n",
        "To stream files we need to mount One Drive."
      ]
    },
    {
      "cell_type": "code",
      "metadata": {
        "id": "dWSuoVQ-LU4M",
        "colab": {
          "base_uri": "https://localhost:8080/"
        },
        "outputId": "30e2ae2a-d070-4ac6-a9ed-306d55b4ba53"
      },
      "source": [
        "!sudo mkdir /content/onedrive\n",
        "!nohup rclone --vfs-cache-mode writes mount onedrive: /content/onedrive &"
      ],
      "execution_count": null,
      "outputs": [
        {
          "output_type": "stream",
          "text": [
            "mkdir: cannot create directory ‘/content/onedrive’: File exists\n",
            "nohup: appending output to 'nohup.out'\n"
          ],
          "name": "stdout"
        }
      ]
    }
  ]
}